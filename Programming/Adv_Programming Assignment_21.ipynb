{
 "cells": [
  {
   "cell_type": "code",
   "execution_count": 12,
   "id": "a014fc0c",
   "metadata": {},
   "outputs": [
    {
     "name": "stdout",
     "output_type": "stream",
     "text": [
      "count_same_ends(Pop! goes the balloon) => 1\n",
      "count_same_ends(And the crowd goes wild!) => 0\n",
      "count_same_ends(No I am not in a gang) => 1\n"
     ]
    }
   ],
   "source": [
    "'''Q.1 Given a sentence, return the number of words which have the same first\n",
    "and last letter.'''\n",
    "\n",
    "def count_same_end(str1):\n",
    "    \n",
    "    sub = '!@#$%^&'\n",
    "    res = \"\"\n",
    "    for i in str1:\n",
    "        if i not in sub:\n",
    "            res +=i.lower()\n",
    "    \n",
    "    count = 0      \n",
    "    for i in res.split(' '):\n",
    "        if len(i) >1:\n",
    "            if i[0] == i[len(i)-1]:\n",
    "                count += 1\n",
    "        \n",
    "    return f\"count_same_ends({str1}) => {count}\"\n",
    "\n",
    "print(count_same_end(\"Pop! goes the balloon\"))\n",
    "print(count_same_end(\"And the crowd goes wild!\"))\n",
    "print(count_same_end(\"No I am not in a gang\"))"
   ]
  },
  {
   "cell_type": "code",
   "execution_count": 33,
   "id": "e3953385",
   "metadata": {},
   "outputs": [
    {
     "name": "stdout",
     "output_type": "stream",
     "text": [
      "atbash(apple) => zkkov\n",
      "atbash(Hellow world!) => Svoold dliow!\n",
      "atbash(christmas is the 25th of December) => xsirhgnzh rh gsv 25gs lu Wvxvnyvi\n"
     ]
    }
   ],
   "source": [
    "'''Q.2 The Atbash cipher is an encryption method in which each letter of a word is\n",
    "replaced with its &quot;mirror&quot; letter in the alphabet: A &lt;=&gt; Z; B &lt;=&gt; Y; C &lt;=&gt; X;\n",
    "etc.\n",
    "Create a function that takes a string and applies the Atbash cipher to it.'''\n",
    "\n",
    "def atbash(str1):\n",
    "    import string\n",
    "    lower = string.ascii_lowercase\n",
    "    upper = string.ascii_uppercase\n",
    "    res = ''\n",
    "    for i in str1:\n",
    "        if i in lower:\n",
    "            index = lower.index(i)\n",
    "            res = res + lower[::-1][index]\n",
    "        elif i in upper:\n",
    "            index = upper.index(i)\n",
    "            res = res + upper[::-1][index]\n",
    "        else:\n",
    "            res = res + i\n",
    "\n",
    "    return f\"atbash({str1}) => {res}\"\n",
    "\n",
    "print(atbash('apple'))\n",
    "print(atbash('Hellow world!'))\n",
    "print(atbash('christmas is the 25th of December'))"
   ]
  },
  {
   "cell_type": "code",
   "execution_count": 22,
   "id": "ddcc1386",
   "metadata": {},
   "outputs": [
    {
     "name": "stdout",
     "output_type": "stream",
     "text": [
      "john\n",
      "Major\n",
      "178\n",
      "Italian\n"
     ]
    }
   ],
   "source": [
    "'''Q.3. Create a class Employee that will take a full name as argument, as well as\n",
    "a set of none, one or more keywords. Each instance should have a name and\n",
    "a lastname attributes plus one more attribute for each of the keywords, if any.'''\n",
    "\n",
    "class Employee:\n",
    "    def __init__(self, fullname,**kwarg):\n",
    "        self.fullname = fullname\n",
    "        for key,value in kwarg.items():\n",
    "            setattr(self, key, value)\n",
    "\n",
    "    def name(self):\n",
    "        name = self.fullname.split(' ')\n",
    "        return name[0]\n",
    "    def lastname(self):\n",
    "        name = self.fullname.split(' ')\n",
    "        return name[1]\n",
    "        \n",
    "john = Employee('john Doe')\n",
    "mary = Employee('Mary Major', salary = 120000)\n",
    "richard = Employee('Richard Roe', salary = 110000, height = 178)\n",
    "giancarlo = Employee('Giancarlo Rossi', salary = 115000, height = 182, nationality = 'Italian')\n",
    "\n",
    "print(john.name())\n",
    "print(mary.lastname())\n",
    "print(richard.height)\n",
    "print(giancarlo.nationality)"
   ]
  },
  {
   "cell_type": "code",
   "execution_count": 107,
   "id": "8ab148a5",
   "metadata": {},
   "outputs": [
    {
     "name": "stdout",
     "output_type": "stream",
     "text": [
      "can_see_stage([[1, 2, 3], [4, 5, 6], [7, 8, 9]]) => True\n",
      "can_see_stage([[0, 0, 0], [1, 1, 1], [2, 2, 2]]) => True\n",
      "can_see_stage([[2, 0, 0], [1, 1, 1], [2, 2, 2]]) => False\n"
     ]
    }
   ],
   "source": [
    "'''Q.4 Create a function that determines whether each seat can &quot;see&quot; the front-\n",
    "stage. A number can &quot;see&quot; the front-stage if it is strictly greater than the\n",
    "number before it.'''\n",
    "\n",
    "def can_see_stage(matrix):\n",
    "    import numpy\n",
    "    tarray = numpy.transpose(matrix)\n",
    "    for i in range(len(tarray)):\n",
    "        if (tarray[i] == sorted(tarray[i])).all() == True:\n",
    "            res = 'True'\n",
    "        else:\n",
    "            res = 'False'\n",
    "            break\n",
    "  \n",
    "    return f\"can_see_stage({matrix}) => {res}\"\n",
    "        \n",
    "print(can_see_stage([[1,2,3],[4,5,6],[7,8,9]]))\n",
    "print(can_see_stage([[0,0,0],[1,1,1],[2,2,2]]))  \n",
    "print(can_see_stage([[2,0,0],[1,1,1],[2,2,2]]))"
   ]
  },
  {
   "cell_type": "code",
   "execution_count": 1,
   "id": "85e48edb",
   "metadata": {},
   "outputs": [
    {
     "name": "stdout",
     "output_type": "stream",
     "text": [
      "p1.ingredients ➞ ['bacon', 'parmesan', 'ham']\n",
      "p2.ingredients ➞ ['spinach', 'olives', 'mushroom']\n",
      "p1.order_number ➞ 1\n",
      "p2.order_number ➞ 2\n"
     ]
    }
   ],
   "source": [
    "# Q.5\n",
    "\n",
    "class Pizza:\n",
    "    order_count = 0\n",
    "    def __init__(self,ingredients=None):\n",
    "        self.ingredients = ingredients\n",
    "        self.order_number = Pizza.order_count+1\n",
    "        Pizza.order_count = self.order_number\n",
    "    def hawaiian(self):\n",
    "        self.ingredients = ['ham', 'pineapple']\n",
    "    def meat_festival(self):\n",
    "        self.ingredients = ['beef', 'meatball', 'bacon']\n",
    "    def garden_feast(self):\n",
    "        self.ingredients = ['spinach', 'olives', 'mushroom']\n",
    "        \n",
    "p1 = Pizza([\"bacon\", \"parmesan\", \"ham\"])\n",
    "p2 = Pizza()\n",
    "p2.garden_feast()\n",
    "print(f'p1.ingredients ➞ {p1.ingredients}')\n",
    "print(f'p2.ingredients ➞ {p2.ingredients}')\n",
    "print(f'p1.order_number ➞ {p1.order_number}')\n",
    "print(f'p2.order_number ➞ {p2.order_number}')"
   ]
  }
 ],
 "metadata": {
  "kernelspec": {
   "display_name": "Python 3 (ipykernel)",
   "language": "python",
   "name": "python3"
  },
  "language_info": {
   "codemirror_mode": {
    "name": "ipython",
    "version": 3
   },
   "file_extension": ".py",
   "mimetype": "text/x-python",
   "name": "python",
   "nbconvert_exporter": "python",
   "pygments_lexer": "ipython3",
   "version": "3.9.7"
  }
 },
 "nbformat": 4,
 "nbformat_minor": 5
}
